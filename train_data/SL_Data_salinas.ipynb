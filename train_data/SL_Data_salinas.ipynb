{
 "cells": [
  {
   "cell_type": "code",
   "execution_count": 1,
   "metadata": {},
   "outputs": [],
   "source": [
    "%matplotlib inline\n",
    "# import, do some set up\n",
    "# from __future__ import division\n",
    "\n",
    "import scipy.io as sio\n",
    "import matplotlib.pyplot as plt\n",
    "import numpy as np\n",
    "import tensorflow as tf\n",
    "import os"
   ]
  },
  {
   "cell_type": "code",
   "execution_count": 2,
   "metadata": {},
   "outputs": [
    {
     "name": "stdout",
     "output_type": "stream",
     "text": [
      "[ 12  18  26  37  48  52  51  57  67  71  72  74  73  76  78  78  84  88\n",
      "  90  91  91  91  91  92  94  93  92  93  91  88  91  90  90  90  86  91\n",
      " 104 110 101 113 126 129  78 120 132 129 128 124 106 112 122 125 122 122\n",
      " 123 122 103  94  88  90  42  44  48  63  83  91 101 100 100 100 100  98\n",
      "  96  94  91  90  85  77  64  32  18  25  25  35  52  57  56  59  56  59\n",
      "  61  63  63  61  54  50  58  49  53  56  55  48  42  35  25  13   1   0\n",
      "   0   0   0   0   1   2   3   4   8   7   7  11  17  20  24  26  26  27\n",
      "  27  26  24  25  25  24  25  26  25  24  24  23  23  22  21  20  19  18\n",
      "  16  16  15  14  12   9   6   2   1   0   0   0   0   0   0   0   0   0\n",
      "   0   0   0   0   1   1   2   5   8   9   4   2   5  11  12   9   8   8\n",
      "  11  12  12  12  12  12  12  12  11  11  11  11  10  11  11  11  10   9\n",
      "   9   8   8   7   7   7   6   6   5   5   5   4   4   4   4   3   3   3\n",
      "   3   2   2   1   1   0   0   0]\n"
     ]
    },
    {
     "data": {
      "image/png": "[encoded data removed]",
      "text/plain": [
       "<Figure size 432x288 with 1 Axes>"
      ]
     },
     "metadata": {
      "needs_background": "light"
     },
     "output_type": "display_data"
    }
   ],
   "source": [
    "# read from file\n",
    "data = sio.loadmat('Salinas.mat') # 512*217*204\n",
    "gt = sio.loadmat('Salinas_gt.mat')\n",
    "X = data['salinas']\n",
    "# normalize X to 0-255\n",
    "# X = X[:,:,0:126]\n",
    "X -= np.amin(X)\n",
    "X = X / np.amax(X)\n",
    "X *= 255\n",
    "X = np.int16(X)\n",
    "print (X[10, 100, :])\n",
    "Y = gt['salinas_gt']\n",
    "Y[Y==8] = 0\n",
    "Y[Y==9] = 8\n",
    "Y[Y==10] = 9\n",
    "Y[Y==11] = 10\n",
    "Y[Y==12] = 11\n",
    "Y[Y==13] = 12\n",
    "Y[Y==14] = 13\n",
    "Y[Y==15] = 0\n",
    "Y[Y==16] = 14\n",
    "plt.imshow(Y)\n",
    "plt.show()"
   ]
  },
  {
   "cell_type": "code",
   "execution_count": 3,
   "metadata": {},
   "outputs": [],
   "source": [
    "# label = 14\n",
    "# class1 = X[Y==label, :]\n",
    "# for i in xrange(np.sum(Y==label)):\n",
    "#     plt.plot(class1[i, :])\n",
    "# plt.show()\n",
    "# # X[Y==1, :]"
   ]
  },
  {
   "cell_type": "code",
   "execution_count": 4,
   "metadata": {},
   "outputs": [],
   "source": [
    "\"\"\"Converts a dataset to tfrecords.\"\"\"\n",
    "# Magic attribute generated for \"int64_list\" proto field.\n",
    "def _int64_feature(value):\n",
    "    return tf.train.Feature(int64_list=tf.train.Int64List(value=[value]))\n",
    "\n",
    "# Magic attribute generated for \"bytes_list\" proto field.\n",
    "def _bytes_feature(value):\n",
    "    return tf.train.Feature(bytes_list=tf.train.BytesList(value=[value]))\n",
    "\n",
    "\n",
    "def convert_to(images, labels, name):\n",
    "    \"\"\"\n",
    "    image: N*Row*Col*depth\n",
    "    \"\"\"\n",
    "    num_examples = labels.shape[0]\n",
    "    if images.shape[0] != num_examples:\n",
    "        raise ValueError(\"Images size %d does not match label size %d.\" %\n",
    "                     (images.shape[0], num_examples))\n",
    "    rows = images.shape[1]\n",
    "    cols = images.shape[2]\n",
    "    depth = images.shape[3]\n",
    "    #将多个路径组合后返回\n",
    "    filename = os.path.join('salinas_dataset', name + '.tfrecords')\n",
    "    print('Writing', filename)\n",
    "    #打开tfr文件，并写入数据\n",
    "    writer = tf.python_io.TFRecordWriter(filename)\n",
    "    for index in range(num_examples):\n",
    "        image_raw = images[index].tostring()\n",
    "        # Magic attribute generated for \"features\" proto field\n",
    "        example = tf.train.Example(features=tf.train.Features(feature={\n",
    "        'height': _int64_feature(rows),\n",
    "        'width': _int64_feature(cols),\n",
    "        'depth': _int64_feature(depth),\n",
    "        'label': _int64_feature(int(labels[index])),\n",
    "        'image_raw': _bytes_feature(image_raw)})\n",
    "        )\n",
    "        writer.write(example.SerializeToString())\n",
    "    writer.close()"
   ]
  },
  {
   "cell_type": "code",
   "execution_count": 5,
   "metadata": {},
   "outputs": [
    {
     "name": "stdout",
     "output_type": "stream",
     "text": [
      "Writing salinas_dataset\\1train.tfrecords\n",
      "Writing salinas_dataset\\1test.tfrecords\n",
      "Writing salinas_dataset\\2train.tfrecords\n",
      "Writing salinas_dataset\\2test.tfrecords\n",
      "Writing salinas_dataset\\3train.tfrecords\n",
      "Writing salinas_dataset\\3test.tfrecords\n",
      "Writing salinas_dataset\\4train.tfrecords\n",
      "Writing salinas_dataset\\4test.tfrecords\n",
      "Writing salinas_dataset\\5train.tfrecords\n",
      "Writing salinas_dataset\\5test.tfrecords\n",
      "Writing salinas_dataset\\6train.tfrecords\n",
      "Writing salinas_dataset\\6test.tfrecords\n",
      "Writing salinas_dataset\\7train.tfrecords\n",
      "Writing salinas_dataset\\7test.tfrecords\n",
      "Writing salinas_dataset\\8train.tfrecords\n",
      "Writing salinas_dataset\\8test.tfrecords\n",
      "Writing salinas_dataset\\9train.tfrecords\n",
      "Writing salinas_dataset\\9test.tfrecords\n",
      "Writing salinas_dataset\\10train.tfrecords\n",
      "Writing salinas_dataset\\10test.tfrecords\n",
      "Writing salinas_dataset\\11train.tfrecords\n",
      "Writing salinas_dataset\\11test.tfrecords\n",
      "Writing salinas_dataset\\12train.tfrecords\n",
      "Writing salinas_dataset\\12test.tfrecords\n",
      "Writing salinas_dataset\\13train.tfrecords\n",
      "Writing salinas_dataset\\13test.tfrecords\n",
      "Writing salinas_dataset\\14train.tfrecords\n",
      "Writing salinas_dataset\\14test.tfrecords\n"
     ]
    }
   ],
   "source": [
    "num_samples = 500\n",
    "train = 400\n",
    "test = 100\n",
    "# salinas 224\n",
    "cols = 224\n",
    "classk_train = {}\n",
    "classk_test = {}\n",
    "np.random.seed(1)\n",
    "# 在同一类中随去选取400个训练样本，从400个样本中选取所有像素对，一组共400*399个\n",
    "for k in range(1, np.amax(Y)+1):\n",
    "    classk = X[Y==k, :]\n",
    "    # np.random.permutation(k)[i:j]在k的范围内随机选j-i个数\n",
    "    permutation_train = np.random.permutation(classk.shape[0])[:train]\n",
    "    permutation_test = np.random.permutation(classk.shape[0])[train:num_samples]\n",
    "    classk_train[k] = classk[permutation_train, :]\n",
    "    classk_test[k] = classk[permutation_test, :]\n",
    "    train_samples = np.zeros((train*(train-1), 1, cols, 1), dtype=np.uint8)\n",
    "    test_samples = np.zeros((test*(test-1), 1, cols, 1), dtype=np.uint8)\n",
    "    index = 0\n",
    "    for i in range(train):\n",
    "        for j in range(train):\n",
    "            if i==j:\n",
    "                continue\n",
    "            # 像素对进行相减，取绝对值\n",
    "            train_samples[index, :, :, 0] = np.abs(classk_train[k][i, :] - classk_train[k][j, :])\n",
    "#             print train_samples[index, :, :, 0]\n",
    "#             raw_input()\n",
    "            index += 1\n",
    "    # 同一类设置标签为1\n",
    "    convert_to(train_samples, np.ones(train*(train-1), dtype=np.int64), str(k)+'train')\n",
    "    index = 0\n",
    "    for i in range(test):\n",
    "        for j in range(test):\n",
    "            if i==j:\n",
    "                continue\n",
    "            test_samples[index, :, :, 0] = np.abs(classk_test[k][i, :] - classk_test[k][j, :])\n",
    "#             print test_samples[index, :, :, 0]\n",
    "            index += 1\n",
    "    # 同一类设置标签为1\n",
    "    convert_to(test_samples, np.ones(test*(test-1), dtype=np.int64), str(k)+'test')"
   ]
  },
  {
   "cell_type": "code",
   "execution_count": 6,
   "metadata": {},
   "outputs": [
    {
     "name": "stdout",
     "output_type": "stream",
     "text": [
      "Writing salinas_dataset\\15train.tfrecords\n",
      "Writing salinas_dataset\\16train.tfrecords\n",
      "Writing salinas_dataset\\17train.tfrecords\n",
      "Writing salinas_dataset\\18train.tfrecords\n",
      "Writing salinas_dataset\\19train.tfrecords\n",
      "Writing salinas_dataset\\20train.tfrecords\n",
      "Writing salinas_dataset\\21train.tfrecords\n",
      "Writing salinas_dataset\\22train.tfrecords\n",
      "Writing salinas_dataset\\23train.tfrecords\n",
      "Writing salinas_dataset\\24train.tfrecords\n",
      "Writing salinas_dataset\\25train.tfrecords\n",
      "Writing salinas_dataset\\26train.tfrecords\n",
      "Writing salinas_dataset\\27train.tfrecords\n",
      "Writing salinas_dataset\\28train.tfrecords\n"
     ]
    }
   ],
   "source": [
    "# salinas\n",
    "# 从两个不同的类中选取像素对，其中一类选取400个样本，另一类选取400/13个样本，一组共400×int(400/13)*13\n",
    "# 不同类的训练样本选取\n",
    "classes = np.amax(Y)\n",
    "n = int(train / (classes-1))\n",
    "np.random.seed(1)\n",
    "for i in range(classes):\n",
    "    train_samples = np.zeros((train*n*(classes-1), 1, cols, 1), dtype=np.uint8)\n",
    "    index = 0\n",
    "    for j in range(classes):\n",
    "        if i==j:\n",
    "            continue\n",
    "        temp_samples = classk_train[j+1][np.random.permutation(train)[:n], :]\n",
    "        for k in range(train):\n",
    "            for m in range(n):\n",
    "                train_samples[index, 0, :, 0] = np.abs(classk_train[i+1][k, :] - temp_samples[m, :])\n",
    "#                 print train_samples[index, 0, :, 0]\n",
    "                index += 1\n",
    "    # 不同类的标签设置为0\n",
    "    convert_to(train_samples, np.zeros(train*n*(classes-1), dtype=np.int64), str(i+classes+1)+'train')"
   ]
  },
  {
   "cell_type": "code",
   "execution_count": 7,
   "metadata": {},
   "outputs": [
    {
     "name": "stdout",
     "output_type": "stream",
     "text": [
      "Writing salinas_dataset\\15test.tfrecords\n",
      "Writing salinas_dataset\\16test.tfrecords\n",
      "Writing salinas_dataset\\17test.tfrecords\n",
      "Writing salinas_dataset\\18test.tfrecords\n",
      "Writing salinas_dataset\\19test.tfrecords\n",
      "Writing salinas_dataset\\20test.tfrecords\n",
      "Writing salinas_dataset\\21test.tfrecords\n",
      "Writing salinas_dataset\\22test.tfrecords\n",
      "Writing salinas_dataset\\23test.tfrecords\n",
      "Writing salinas_dataset\\24test.tfrecords\n",
      "Writing salinas_dataset\\25test.tfrecords\n",
      "Writing salinas_dataset\\26test.tfrecords\n",
      "Writing salinas_dataset\\27test.tfrecords\n",
      "Writing salinas_dataset\\28test.tfrecords\n"
     ]
    }
   ],
   "source": [
    "# salinas\n",
    "# 不同类的测试样本选取\n",
    "n = int(test / (classes-1))\n",
    "np.random.seed(1)\n",
    "for i in range(classes):\n",
    "    test_samples = np.zeros((test*n*(classes-1), 1, cols, 1), dtype=np.uint8)\n",
    "    index = 0\n",
    "    for j in range(classes):\n",
    "        if i==j:\n",
    "            continue\n",
    "        temp_samples = classk_test[j+1][np.random.permutation(test)[:n], :]\n",
    "        for k in range(test):\n",
    "            for m in range(n):\n",
    "                test_samples[index, 0, :, 0] = np.abs(classk_test[i+1][k, :] - temp_samples[m, :])\n",
    "                index += 1\n",
    "    # 不同类的标签设置为0\n",
    "    convert_to(test_samples, np.zeros(test*n*(classes-1), dtype=np.int64), str(i+classes+1)+'test')"
   ]
  },
  {
   "cell_type": "code",
   "execution_count": null,
   "metadata": {
    "collapsed": true
   },
   "outputs": [],
   "source": []
  }
 ],
 "metadata": {
  "kernelspec": {
   "display_name": "Python 3",
   "language": "python",
   "name": "python3"
  },
  "language_info": {
   "codemirror_mode": {
    "name": "ipython",
    "version": 3
   },
   "file_extension": ".py",
   "mimetype": "text/x-python",
   "name": "python",
   "nbconvert_exporter": "python",
   "pygments_lexer": "ipython3",
   "version": "3.6.8"
  }
 },
 "nbformat": 4,
 "nbformat_minor": 1
}
